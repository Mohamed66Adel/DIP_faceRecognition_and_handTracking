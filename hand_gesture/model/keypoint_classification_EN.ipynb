{
  "cells": [
    {
      "cell_type": "code",
      "execution_count": 23,
      "metadata": {
        "id": "igMyGnjE9hEp"
      },
      "outputs": [],
      "source": [
        "import csv\n",
        "\n",
        "import numpy as np\n",
        "import tensorflow as tf\n",
        "from sklearn.model_selection import train_test_split\n",
        "\n",
        "RANDOM_SEED = 42"
      ]
    },
    {
      "cell_type": "markdown",
      "metadata": {
        "id": "t2HDvhIu9hEr"
      },
      "source": [
        "# Specify each path"
      ]
    },
    {
      "cell_type": "code",
      "execution_count": 24,
      "metadata": {
        "id": "9NvZP2Zn9hEy"
      },
      "outputs": [],
      "source": [
        "dataset = './keypoint.csv'\n",
        "model_save_path = './keypoint_classifier.hdf5'\n",
        "tflite_save_path = './keypoint_classifier.tflite'"
      ]
    },
    {
      "cell_type": "markdown",
      "metadata": {
        "id": "s5oMH7x19hEz"
      },
      "source": [
        "# Set number of classes"
      ]
    },
    {
      "cell_type": "code",
      "execution_count": 25,
      "metadata": {
        "id": "du4kodXL9hEz"
      },
      "outputs": [],
      "source": [
        "NUM_CLASSES = 8"
      ]
    },
    {
      "cell_type": "markdown",
      "metadata": {
        "id": "XjnL0uso9hEz"
      },
      "source": [
        "# Dataset reading"
      ]
    },
    {
      "cell_type": "code",
      "execution_count": 76,
      "metadata": {
        "id": "QT5ZqtEz9hE0"
      },
      "outputs": [],
      "source": [
        "X_dataset = np.loadtxt(dataset, delimiter=',', dtype='float32', usecols=list(range(1, (21 * 3) + 1)))"
      ]
    },
    {
      "cell_type": "code",
      "execution_count": 77,
      "metadata": {
        "id": "QmoKFsp49hE0"
      },
      "outputs": [],
      "source": [
        "y_dataset = np.loadtxt(dataset, delimiter=',', dtype='int32', usecols=(0))"
      ]
    },
    {
      "cell_type": "code",
      "execution_count": 78,
      "metadata": {
        "id": "xQU7JTZ_9hE0"
      },
      "outputs": [],
      "source": [
        "X_train, X_test, y_train, y_test = train_test_split(X_dataset, y_dataset, train_size=0.75, random_state=RANDOM_SEED)"
      ]
    },
    {
      "cell_type": "markdown",
      "metadata": {
        "id": "mxK_lETT9hE0"
      },
      "source": [
        "# Model building"
      ]
    },
    {
      "cell_type": "code",
      "execution_count": 79,
      "metadata": {
        "id": "vHBmUf1t9hE1"
      },
      "outputs": [],
      "source": [
        "model = tf.keras.models.Sequential([\n",
        "    tf.keras.layers.Input((21 * 3, )),\n",
        "    tf.keras.layers.Dropout(0.2),\n",
        "    tf.keras.layers.Dense(63, activation='relu'),\n",
        "    tf.keras.layers.Dropout(0.4),\n",
        "    tf.keras.layers.Dense(32, activation='relu'),\n",
        "    tf.keras.layers.Dropout(0.4),\n",
        "    tf.keras.layers.Dense(16, activation='relu'),\n",
        "    tf.keras.layers.Dense(NUM_CLASSES, activation='softmax')\n",
        "])"
      ]
    },
    {
      "cell_type": "code",
      "execution_count": 80,
      "metadata": {
        "colab": {
          "base_uri": "https://localhost:8080/"
        },
        "id": "ypqky9tc9hE1",
        "outputId": "5db082bb-30e3-4110-bf63-a1ee777ecd46"
      },
      "outputs": [
        {
          "name": "stdout",
          "output_type": "stream",
          "text": [
            "Model: \"sequential_4\"\n",
            "_________________________________________________________________\n",
            " Layer (type)                Output Shape              Param #   \n",
            "=================================================================\n",
            " dropout_10 (Dropout)        (None, 63)                0         \n",
            "                                                                 \n",
            " dense_14 (Dense)            (None, 63)                4032      \n",
            "                                                                 \n",
            " dropout_11 (Dropout)        (None, 63)                0         \n",
            "                                                                 \n",
            " dense_15 (Dense)            (None, 32)                2048      \n",
            "                                                                 \n",
            " dropout_12 (Dropout)        (None, 32)                0         \n",
            "                                                                 \n",
            " dense_16 (Dense)            (None, 16)                528       \n",
            "                                                                 \n",
            " dense_17 (Dense)            (None, 8)                 136       \n",
            "                                                                 \n",
            "=================================================================\n",
            "Total params: 6,744\n",
            "Trainable params: 6,744\n",
            "Non-trainable params: 0\n",
            "_________________________________________________________________\n"
          ]
        }
      ],
      "source": [
        "model.summary()  # tf.keras.utils.plot_model(model, show_shapes=True)"
      ]
    },
    {
      "cell_type": "code",
      "execution_count": 81,
      "metadata": {
        "id": "MbMjOflQ9hE1"
      },
      "outputs": [],
      "source": [
        "# Model checkpoint callback\n",
        "cp_callback = tf.keras.callbacks.ModelCheckpoint(\n",
        "    model_save_path, verbose=1, save_weights_only=False)\n",
        "# Callback for early stopping\n",
        "es_callback = tf.keras.callbacks.EarlyStopping(patience=20, verbose=1)"
      ]
    },
    {
      "cell_type": "code",
      "execution_count": 82,
      "metadata": {
        "id": "c3Dac0M_9hE2"
      },
      "outputs": [],
      "source": [
        "# Model compilation\n",
        "model.compile(\n",
        "    optimizer='adam',\n",
        "    loss='sparse_categorical_crossentropy',\n",
        "    metrics=['accuracy']\n",
        ")"
      ]
    },
    {
      "cell_type": "markdown",
      "metadata": {
        "id": "7XI0j1Iu9hE2"
      },
      "source": [
        "# Model training"
      ]
    },
    {
      "cell_type": "code",
      "execution_count": 83,
      "metadata": {
        "colab": {
          "base_uri": "https://localhost:8080/"
        },
        "id": "WirBl-JE9hE3",
        "outputId": "71b30ca2-8294-4d9d-8aa2-800d90d399de",
        "scrolled": true
      },
      "outputs": [
        {
          "name": "stdout",
          "output_type": "stream",
          "text": [
            "Epoch 1/1000\n",
            "27/30 [==========================>...] - ETA: 0s - loss: 2.1459 - accuracy: 0.1435 \n",
            "Epoch 1: saving model to .\\keypoint_classifier.hdf5\n",
            "30/30 [==============================] - 1s 11ms/step - loss: 2.1386 - accuracy: 0.1417 - val_loss: 2.0426 - val_accuracy: 0.1875\n",
            "Epoch 2/1000\n",
            "25/30 [========================>.....] - ETA: 0s - loss: 2.0707 - accuracy: 0.1550\n",
            "Epoch 2: saving model to .\\keypoint_classifier.hdf5\n",
            "30/30 [==============================] - 0s 6ms/step - loss: 2.0669 - accuracy: 0.1604 - val_loss: 2.0114 - val_accuracy: 0.1875\n",
            "Epoch 3/1000\n",
            "18/30 [=================>............] - ETA: 0s - loss: 1.9949 - accuracy: 0.2292\n",
            "Epoch 3: saving model to .\\keypoint_classifier.hdf5\n",
            "30/30 [==============================] - 0s 5ms/step - loss: 2.0013 - accuracy: 0.2229 - val_loss: 1.9548 - val_accuracy: 0.3250\n",
            "Epoch 4/1000\n",
            "23/30 [======================>.......] - ETA: 0s - loss: 1.9604 - accuracy: 0.2011\n",
            "Epoch 4: saving model to .\\keypoint_classifier.hdf5\n",
            "30/30 [==============================] - 0s 5ms/step - loss: 1.9665 - accuracy: 0.1854 - val_loss: 1.8993 - val_accuracy: 0.3438\n",
            "Epoch 5/1000\n",
            "23/30 [======================>.......] - ETA: 0s - loss: 1.9218 - accuracy: 0.2908\n",
            "Epoch 5: saving model to .\\keypoint_classifier.hdf5\n",
            "30/30 [==============================] - 0s 5ms/step - loss: 1.9079 - accuracy: 0.2917 - val_loss: 1.8359 - val_accuracy: 0.4062\n",
            "Epoch 6/1000\n",
            "22/30 [=====================>........] - ETA: 0s - loss: 1.8077 - accuracy: 0.3295\n",
            "Epoch 6: saving model to .\\keypoint_classifier.hdf5\n",
            "30/30 [==============================] - 0s 5ms/step - loss: 1.8378 - accuracy: 0.3104 - val_loss: 1.7403 - val_accuracy: 0.4250\n",
            "Epoch 7/1000\n",
            "20/30 [===================>..........] - ETA: 0s - loss: 1.7261 - accuracy: 0.3375\n",
            "Epoch 7: saving model to .\\keypoint_classifier.hdf5\n",
            "30/30 [==============================] - 0s 5ms/step - loss: 1.7466 - accuracy: 0.3208 - val_loss: 1.6547 - val_accuracy: 0.4500\n",
            "Epoch 8/1000\n",
            "20/30 [===================>..........] - ETA: 0s - loss: 1.7188 - accuracy: 0.3594\n",
            "Epoch 8: saving model to .\\keypoint_classifier.hdf5\n",
            "30/30 [==============================] - 0s 7ms/step - loss: 1.7069 - accuracy: 0.3625 - val_loss: 1.5817 - val_accuracy: 0.4500\n",
            "Epoch 9/1000\n",
            "13/30 [============>.................] - ETA: 0s - loss: 1.5959 - accuracy: 0.4231\n",
            "Epoch 9: saving model to .\\keypoint_classifier.hdf5\n",
            "30/30 [==============================] - 0s 6ms/step - loss: 1.6320 - accuracy: 0.3792 - val_loss: 1.4800 - val_accuracy: 0.5188\n",
            "Epoch 10/1000\n",
            "20/30 [===================>..........] - ETA: 0s - loss: 1.5318 - accuracy: 0.4094\n",
            "Epoch 10: saving model to .\\keypoint_classifier.hdf5\n",
            "30/30 [==============================] - 0s 5ms/step - loss: 1.5292 - accuracy: 0.4208 - val_loss: 1.3866 - val_accuracy: 0.5688\n",
            "Epoch 11/1000\n",
            "17/30 [================>.............] - ETA: 0s - loss: 1.4805 - accuracy: 0.4301\n",
            "Epoch 11: saving model to .\\keypoint_classifier.hdf5\n",
            "30/30 [==============================] - 1s 47ms/step - loss: 1.4852 - accuracy: 0.4417 - val_loss: 1.3155 - val_accuracy: 0.5875\n",
            "Epoch 12/1000\n",
            "23/30 [======================>.......] - ETA: 0s - loss: 1.3866 - accuracy: 0.5027\n",
            "Epoch 12: saving model to .\\keypoint_classifier.hdf5\n",
            "30/30 [==============================] - 4s 136ms/step - loss: 1.4090 - accuracy: 0.4875 - val_loss: 1.2194 - val_accuracy: 0.5938\n",
            "Epoch 13/1000\n",
            "17/30 [================>.............] - ETA: 0s - loss: 1.4187 - accuracy: 0.4522\n",
            "Epoch 13: saving model to .\\keypoint_classifier.hdf5\n",
            "30/30 [==============================] - 0s 6ms/step - loss: 1.3893 - accuracy: 0.4500 - val_loss: 1.1742 - val_accuracy: 0.6625\n",
            "Epoch 14/1000\n",
            "26/30 [=========================>....] - ETA: 0s - loss: 1.3008 - accuracy: 0.4904\n",
            "Epoch 14: saving model to .\\keypoint_classifier.hdf5\n",
            "30/30 [==============================] - 0s 8ms/step - loss: 1.3147 - accuracy: 0.4938 - val_loss: 1.1113 - val_accuracy: 0.7000\n",
            "Epoch 15/1000\n",
            "30/30 [==============================] - ETA: 0s - loss: 1.3043 - accuracy: 0.5000\n",
            "Epoch 15: saving model to .\\keypoint_classifier.hdf5\n",
            "30/30 [==============================] - 0s 6ms/step - loss: 1.3043 - accuracy: 0.5000 - val_loss: 1.0516 - val_accuracy: 0.6375\n",
            "Epoch 16/1000\n",
            "16/30 [===============>..............] - ETA: 0s - loss: 1.3230 - accuracy: 0.5078\n",
            "Epoch 16: saving model to .\\keypoint_classifier.hdf5\n",
            "30/30 [==============================] - 0s 6ms/step - loss: 1.2930 - accuracy: 0.5208 - val_loss: 1.0012 - val_accuracy: 0.6625\n",
            "Epoch 17/1000\n",
            "30/30 [==============================] - ETA: 0s - loss: 1.2466 - accuracy: 0.5188\n",
            "Epoch 17: saving model to .\\keypoint_classifier.hdf5\n",
            "30/30 [==============================] - 0s 7ms/step - loss: 1.2466 - accuracy: 0.5188 - val_loss: 0.9939 - val_accuracy: 0.7312\n",
            "Epoch 18/1000\n",
            "18/30 [=================>............] - ETA: 0s - loss: 1.2528 - accuracy: 0.5069\n",
            "Epoch 18: saving model to .\\keypoint_classifier.hdf5\n",
            "30/30 [==============================] - 0s 6ms/step - loss: 1.2143 - accuracy: 0.5229 - val_loss: 0.9561 - val_accuracy: 0.6750\n",
            "Epoch 19/1000\n",
            "19/30 [==================>...........] - ETA: 0s - loss: 1.1628 - accuracy: 0.5691\n",
            "Epoch 19: saving model to .\\keypoint_classifier.hdf5\n",
            "30/30 [==============================] - 0s 6ms/step - loss: 1.1410 - accuracy: 0.5854 - val_loss: 0.9138 - val_accuracy: 0.6812\n",
            "Epoch 20/1000\n",
            "17/30 [================>.............] - ETA: 0s - loss: 1.2444 - accuracy: 0.5478\n",
            "Epoch 20: saving model to .\\keypoint_classifier.hdf5\n",
            "30/30 [==============================] - 0s 6ms/step - loss: 1.2070 - accuracy: 0.5667 - val_loss: 0.8855 - val_accuracy: 0.7000\n",
            "Epoch 21/1000\n",
            "16/30 [===============>..............] - ETA: 0s - loss: 1.1594 - accuracy: 0.5234\n",
            "Epoch 21: saving model to .\\keypoint_classifier.hdf5\n",
            "30/30 [==============================] - 0s 6ms/step - loss: 1.1823 - accuracy: 0.5229 - val_loss: 0.8754 - val_accuracy: 0.7625\n",
            "Epoch 22/1000\n",
            "30/30 [==============================] - ETA: 0s - loss: 1.1483 - accuracy: 0.5750\n",
            "Epoch 22: saving model to .\\keypoint_classifier.hdf5\n",
            "30/30 [==============================] - 0s 6ms/step - loss: 1.1483 - accuracy: 0.5750 - val_loss: 0.8423 - val_accuracy: 0.7000\n",
            "Epoch 23/1000\n",
            "18/30 [=================>............] - ETA: 0s - loss: 1.0496 - accuracy: 0.5903\n",
            "Epoch 23: saving model to .\\keypoint_classifier.hdf5\n",
            "30/30 [==============================] - 0s 6ms/step - loss: 1.0859 - accuracy: 0.5729 - val_loss: 0.8363 - val_accuracy: 0.6938\n",
            "Epoch 24/1000\n",
            "17/30 [================>.............] - ETA: 0s - loss: 1.1060 - accuracy: 0.5956\n",
            "Epoch 24: saving model to .\\keypoint_classifier.hdf5\n",
            "30/30 [==============================] - 0s 6ms/step - loss: 1.1723 - accuracy: 0.5771 - val_loss: 0.8109 - val_accuracy: 0.7125\n",
            "Epoch 25/1000\n",
            "17/30 [================>.............] - ETA: 0s - loss: 1.0521 - accuracy: 0.5846\n",
            "Epoch 25: saving model to .\\keypoint_classifier.hdf5\n",
            "30/30 [==============================] - 0s 6ms/step - loss: 1.0281 - accuracy: 0.5958 - val_loss: 0.8061 - val_accuracy: 0.7437\n",
            "Epoch 26/1000\n",
            "16/30 [===============>..............] - ETA: 0s - loss: 1.0810 - accuracy: 0.6289\n",
            "Epoch 26: saving model to .\\keypoint_classifier.hdf5\n",
            "30/30 [==============================] - 0s 6ms/step - loss: 1.0512 - accuracy: 0.6146 - val_loss: 0.7621 - val_accuracy: 0.7875\n",
            "Epoch 27/1000\n",
            "16/30 [===============>..............] - ETA: 0s - loss: 1.0784 - accuracy: 0.5703\n",
            "Epoch 27: saving model to .\\keypoint_classifier.hdf5\n",
            "30/30 [==============================] - 0s 5ms/step - loss: 1.0014 - accuracy: 0.6000 - val_loss: 0.7524 - val_accuracy: 0.7750\n",
            "Epoch 28/1000\n",
            "18/30 [=================>............] - ETA: 0s - loss: 0.9754 - accuracy: 0.6076\n",
            "Epoch 28: saving model to .\\keypoint_classifier.hdf5\n",
            "30/30 [==============================] - 0s 5ms/step - loss: 0.9724 - accuracy: 0.6083 - val_loss: 0.7303 - val_accuracy: 0.7563\n",
            "Epoch 29/1000\n",
            "21/30 [====================>.........] - ETA: 0s - loss: 0.9989 - accuracy: 0.6071\n",
            "Epoch 29: saving model to .\\keypoint_classifier.hdf5\n",
            "30/30 [==============================] - 5s 162ms/step - loss: 1.0064 - accuracy: 0.6125 - val_loss: 0.7206 - val_accuracy: 0.7688\n",
            "Epoch 30/1000\n",
            "26/30 [=========================>....] - ETA: 0s - loss: 0.9278 - accuracy: 0.6490\n",
            "Epoch 30: saving model to .\\keypoint_classifier.hdf5\n",
            "30/30 [==============================] - 0s 4ms/step - loss: 0.9140 - accuracy: 0.6604 - val_loss: 0.6899 - val_accuracy: 0.8062\n",
            "Epoch 31/1000\n",
            "28/30 [===========================>..] - ETA: 0s - loss: 0.8891 - accuracy: 0.6429\n",
            "Epoch 31: saving model to .\\keypoint_classifier.hdf5\n",
            "30/30 [==============================] - 0s 5ms/step - loss: 0.8876 - accuracy: 0.6479 - val_loss: 0.6706 - val_accuracy: 0.7812\n",
            "Epoch 32/1000\n",
            "22/30 [=====================>........] - ETA: 0s - loss: 0.9953 - accuracy: 0.6080\n",
            "Epoch 32: saving model to .\\keypoint_classifier.hdf5\n",
            "30/30 [==============================] - 0s 5ms/step - loss: 0.9982 - accuracy: 0.6208 - val_loss: 0.6606 - val_accuracy: 0.7812\n",
            "Epoch 33/1000\n",
            "24/30 [=======================>......] - ETA: 0s - loss: 0.9091 - accuracy: 0.6380\n",
            "Epoch 33: saving model to .\\keypoint_classifier.hdf5\n",
            "30/30 [==============================] - 0s 5ms/step - loss: 0.9656 - accuracy: 0.6104 - val_loss: 0.6680 - val_accuracy: 0.7937\n",
            "Epoch 34/1000\n",
            "25/30 [========================>.....] - ETA: 0s - loss: 0.8812 - accuracy: 0.6300\n",
            "Epoch 34: saving model to .\\keypoint_classifier.hdf5\n",
            "30/30 [==============================] - 0s 5ms/step - loss: 0.8798 - accuracy: 0.6458 - val_loss: 0.6405 - val_accuracy: 0.8062\n",
            "Epoch 35/1000\n",
            "27/30 [==========================>...] - ETA: 0s - loss: 0.9019 - accuracy: 0.6435\n",
            "Epoch 35: saving model to .\\keypoint_classifier.hdf5\n",
            "30/30 [==============================] - 0s 5ms/step - loss: 0.8891 - accuracy: 0.6479 - val_loss: 0.6572 - val_accuracy: 0.7937\n",
            "Epoch 36/1000\n",
            "26/30 [=========================>....] - ETA: 0s - loss: 0.8759 - accuracy: 0.6611\n",
            "Epoch 36: saving model to .\\keypoint_classifier.hdf5\n",
            "30/30 [==============================] - 0s 5ms/step - loss: 0.8793 - accuracy: 0.6604 - val_loss: 0.6332 - val_accuracy: 0.7937\n",
            "Epoch 37/1000\n",
            "24/30 [=======================>......] - ETA: 0s - loss: 0.8900 - accuracy: 0.6667\n",
            "Epoch 37: saving model to .\\keypoint_classifier.hdf5\n",
            "30/30 [==============================] - 0s 5ms/step - loss: 0.8859 - accuracy: 0.6708 - val_loss: 0.6386 - val_accuracy: 0.7750\n",
            "Epoch 38/1000\n",
            "22/30 [=====================>........] - ETA: 0s - loss: 0.8757 - accuracy: 0.6648\n",
            "Epoch 38: saving model to .\\keypoint_classifier.hdf5\n",
            "30/30 [==============================] - 0s 5ms/step - loss: 0.8608 - accuracy: 0.6604 - val_loss: 0.5892 - val_accuracy: 0.7875\n",
            "Epoch 39/1000\n",
            "26/30 [=========================>....] - ETA: 0s - loss: 0.8977 - accuracy: 0.6707\n",
            "Epoch 39: saving model to .\\keypoint_classifier.hdf5\n",
            "30/30 [==============================] - 0s 5ms/step - loss: 0.9170 - accuracy: 0.6687 - val_loss: 0.5945 - val_accuracy: 0.7812\n",
            "Epoch 40/1000\n",
            "19/30 [==================>...........] - ETA: 0s - loss: 0.8491 - accuracy: 0.6447\n",
            "Epoch 40: saving model to .\\keypoint_classifier.hdf5\n",
            "30/30 [==============================] - 0s 6ms/step - loss: 0.8506 - accuracy: 0.6562 - val_loss: 0.5943 - val_accuracy: 0.7563\n",
            "Epoch 41/1000\n",
            "18/30 [=================>............] - ETA: 0s - loss: 0.9885 - accuracy: 0.6562\n",
            "Epoch 41: saving model to .\\keypoint_classifier.hdf5\n",
            "30/30 [==============================] - 0s 6ms/step - loss: 0.9309 - accuracy: 0.6625 - val_loss: 0.6218 - val_accuracy: 0.7812\n",
            "Epoch 42/1000\n",
            "23/30 [======================>.......] - ETA: 0s - loss: 0.8614 - accuracy: 0.6929\n",
            "Epoch 42: saving model to .\\keypoint_classifier.hdf5\n",
            "30/30 [==============================] - 0s 5ms/step - loss: 0.8505 - accuracy: 0.6875 - val_loss: 0.6081 - val_accuracy: 0.8000\n",
            "Epoch 43/1000\n",
            "20/30 [===================>..........] - ETA: 0s - loss: 0.7888 - accuracy: 0.6906\n",
            "Epoch 43: saving model to .\\keypoint_classifier.hdf5\n",
            "30/30 [==============================] - 0s 5ms/step - loss: 0.8115 - accuracy: 0.6896 - val_loss: 0.5864 - val_accuracy: 0.8000\n",
            "Epoch 44/1000\n",
            "26/30 [=========================>....] - ETA: 0s - loss: 0.8059 - accuracy: 0.6923\n",
            "Epoch 44: saving model to .\\keypoint_classifier.hdf5\n",
            "30/30 [==============================] - 0s 5ms/step - loss: 0.8075 - accuracy: 0.6938 - val_loss: 0.5653 - val_accuracy: 0.8313\n",
            "Epoch 45/1000\n",
            "23/30 [======================>.......] - ETA: 0s - loss: 0.7803 - accuracy: 0.6793\n",
            "Epoch 45: saving model to .\\keypoint_classifier.hdf5\n",
            "30/30 [==============================] - 0s 5ms/step - loss: 0.8013 - accuracy: 0.6729 - val_loss: 0.5426 - val_accuracy: 0.8250\n",
            "Epoch 46/1000\n",
            "26/30 [=========================>....] - ETA: 0s - loss: 0.8698 - accuracy: 0.6418\n",
            "Epoch 46: saving model to .\\keypoint_classifier.hdf5\n",
            "30/30 [==============================] - 0s 5ms/step - loss: 0.8534 - accuracy: 0.6500 - val_loss: 0.5280 - val_accuracy: 0.8125\n",
            "Epoch 47/1000\n",
            "25/30 [========================>.....] - ETA: 0s - loss: 0.7443 - accuracy: 0.7100\n",
            "Epoch 47: saving model to .\\keypoint_classifier.hdf5\n",
            "30/30 [==============================] - 0s 5ms/step - loss: 0.7561 - accuracy: 0.7146 - val_loss: 0.5354 - val_accuracy: 0.8000\n",
            "Epoch 48/1000\n",
            "20/30 [===================>..........] - ETA: 0s - loss: 0.8712 - accuracy: 0.6281\n",
            "Epoch 48: saving model to .\\keypoint_classifier.hdf5\n",
            "30/30 [==============================] - 0s 6ms/step - loss: 0.8213 - accuracy: 0.6604 - val_loss: 0.5041 - val_accuracy: 0.8250\n",
            "Epoch 49/1000\n",
            "19/30 [==================>...........] - ETA: 0s - loss: 0.8444 - accuracy: 0.6513\n",
            "Epoch 49: saving model to .\\keypoint_classifier.hdf5\n",
            "30/30 [==============================] - 0s 6ms/step - loss: 0.8766 - accuracy: 0.6438 - val_loss: 0.5412 - val_accuracy: 0.8062\n",
            "Epoch 50/1000\n",
            "27/30 [==========================>...] - ETA: 0s - loss: 0.8035 - accuracy: 0.6829\n",
            "Epoch 50: saving model to .\\keypoint_classifier.hdf5\n",
            "30/30 [==============================] - 0s 5ms/step - loss: 0.7889 - accuracy: 0.6938 - val_loss: 0.5315 - val_accuracy: 0.8250\n",
            "Epoch 51/1000\n",
            "22/30 [=====================>........] - ETA: 0s - loss: 0.7660 - accuracy: 0.6989\n",
            "Epoch 51: saving model to .\\keypoint_classifier.hdf5\n",
            "30/30 [==============================] - 0s 5ms/step - loss: 0.7712 - accuracy: 0.6979 - val_loss: 0.5241 - val_accuracy: 0.8188\n",
            "Epoch 52/1000\n",
            "21/30 [====================>.........] - ETA: 0s - loss: 0.8568 - accuracy: 0.6667\n",
            "Epoch 52: saving model to .\\keypoint_classifier.hdf5\n",
            "30/30 [==============================] - 0s 6ms/step - loss: 0.8437 - accuracy: 0.6771 - val_loss: 0.5147 - val_accuracy: 0.8500\n",
            "Epoch 53/1000\n",
            "18/30 [=================>............] - ETA: 0s - loss: 0.7955 - accuracy: 0.6910\n",
            "Epoch 53: saving model to .\\keypoint_classifier.hdf5\n",
            "30/30 [==============================] - 0s 6ms/step - loss: 0.8263 - accuracy: 0.6792 - val_loss: 0.5266 - val_accuracy: 0.8313\n",
            "Epoch 54/1000\n",
            "26/30 [=========================>....] - ETA: 0s - loss: 0.7746 - accuracy: 0.7308\n",
            "Epoch 54: saving model to .\\keypoint_classifier.hdf5\n",
            "30/30 [==============================] - 0s 5ms/step - loss: 0.7621 - accuracy: 0.7292 - val_loss: 0.5188 - val_accuracy: 0.8375\n",
            "Epoch 55/1000\n",
            "22/30 [=====================>........] - ETA: 0s - loss: 0.7732 - accuracy: 0.7244\n",
            "Epoch 55: saving model to .\\keypoint_classifier.hdf5\n",
            "30/30 [==============================] - 0s 6ms/step - loss: 0.8024 - accuracy: 0.7188 - val_loss: 0.4819 - val_accuracy: 0.8375\n",
            "Epoch 56/1000\n",
            "20/30 [===================>..........] - ETA: 0s - loss: 0.8341 - accuracy: 0.6625\n",
            "Epoch 56: saving model to .\\keypoint_classifier.hdf5\n",
            "30/30 [==============================] - 0s 6ms/step - loss: 0.7903 - accuracy: 0.6896 - val_loss: 0.5052 - val_accuracy: 0.8438\n",
            "Epoch 57/1000\n",
            "27/30 [==========================>...] - ETA: 0s - loss: 0.7185 - accuracy: 0.7037\n",
            "Epoch 57: saving model to .\\keypoint_classifier.hdf5\n",
            "30/30 [==============================] - 0s 5ms/step - loss: 0.7338 - accuracy: 0.7021 - val_loss: 0.4846 - val_accuracy: 0.8375\n",
            "Epoch 58/1000\n",
            "22/30 [=====================>........] - ETA: 0s - loss: 0.7722 - accuracy: 0.7102\n",
            "Epoch 58: saving model to .\\keypoint_classifier.hdf5\n",
            "30/30 [==============================] - 0s 7ms/step - loss: 0.7858 - accuracy: 0.7125 - val_loss: 0.4899 - val_accuracy: 0.8625\n",
            "Epoch 59/1000\n",
            "16/30 [===============>..............] - ETA: 0s - loss: 0.7148 - accuracy: 0.6914\n",
            "Epoch 59: saving model to .\\keypoint_classifier.hdf5\n",
            "30/30 [==============================] - 0s 6ms/step - loss: 0.7391 - accuracy: 0.7104 - val_loss: 0.4896 - val_accuracy: 0.8625\n",
            "Epoch 60/1000\n",
            "23/30 [======================>.......] - ETA: 0s - loss: 0.7953 - accuracy: 0.7092\n",
            "Epoch 60: saving model to .\\keypoint_classifier.hdf5\n",
            "30/30 [==============================] - 2s 85ms/step - loss: 0.8016 - accuracy: 0.7125 - val_loss: 0.4978 - val_accuracy: 0.8125\n",
            "Epoch 61/1000\n",
            "28/30 [===========================>..] - ETA: 0s - loss: 0.7845 - accuracy: 0.6897\n",
            "Epoch 61: saving model to .\\keypoint_classifier.hdf5\n",
            "30/30 [==============================] - 0s 5ms/step - loss: 0.7865 - accuracy: 0.6812 - val_loss: 0.4898 - val_accuracy: 0.8625\n",
            "Epoch 62/1000\n",
            "21/30 [====================>.........] - ETA: 0s - loss: 0.7253 - accuracy: 0.7292\n",
            "Epoch 62: saving model to .\\keypoint_classifier.hdf5\n",
            "30/30 [==============================] - 0s 5ms/step - loss: 0.7427 - accuracy: 0.7167 - val_loss: 0.4882 - val_accuracy: 0.8375\n",
            "Epoch 63/1000\n",
            "24/30 [=======================>......] - ETA: 0s - loss: 0.6987 - accuracy: 0.7161\n",
            "Epoch 63: saving model to .\\keypoint_classifier.hdf5\n",
            "30/30 [==============================] - 0s 5ms/step - loss: 0.7302 - accuracy: 0.6958 - val_loss: 0.4860 - val_accuracy: 0.8562\n",
            "Epoch 64/1000\n",
            "20/30 [===================>..........] - ETA: 0s - loss: 0.7512 - accuracy: 0.7219\n",
            "Epoch 64: saving model to .\\keypoint_classifier.hdf5\n",
            "30/30 [==============================] - 0s 5ms/step - loss: 0.7629 - accuracy: 0.7021 - val_loss: 0.4816 - val_accuracy: 0.8375\n",
            "Epoch 65/1000\n",
            "25/30 [========================>.....] - ETA: 0s - loss: 0.6799 - accuracy: 0.7450\n",
            "Epoch 65: saving model to .\\keypoint_classifier.hdf5\n",
            "30/30 [==============================] - 0s 6ms/step - loss: 0.6867 - accuracy: 0.7354 - val_loss: 0.4779 - val_accuracy: 0.8562\n",
            "Epoch 66/1000\n",
            "27/30 [==========================>...] - ETA: 0s - loss: 0.6667 - accuracy: 0.7477\n",
            "Epoch 66: saving model to .\\keypoint_classifier.hdf5\n",
            "30/30 [==============================] - 0s 5ms/step - loss: 0.6708 - accuracy: 0.7479 - val_loss: 0.4673 - val_accuracy: 0.8188\n",
            "Epoch 67/1000\n",
            "25/30 [========================>.....] - ETA: 0s - loss: 0.7193 - accuracy: 0.7300\n",
            "Epoch 67: saving model to .\\keypoint_classifier.hdf5\n",
            "30/30 [==============================] - 0s 5ms/step - loss: 0.7262 - accuracy: 0.7333 - val_loss: 0.4633 - val_accuracy: 0.8313\n",
            "Epoch 68/1000\n",
            "22/30 [=====================>........] - ETA: 0s - loss: 0.6769 - accuracy: 0.7358\n",
            "Epoch 68: saving model to .\\keypoint_classifier.hdf5\n",
            "30/30 [==============================] - 0s 5ms/step - loss: 0.6817 - accuracy: 0.7396 - val_loss: 0.4560 - val_accuracy: 0.8750\n",
            "Epoch 69/1000\n",
            "21/30 [====================>.........] - ETA: 0s - loss: 0.7109 - accuracy: 0.7589\n",
            "Epoch 69: saving model to .\\keypoint_classifier.hdf5\n",
            "30/30 [==============================] - 0s 5ms/step - loss: 0.7541 - accuracy: 0.7396 - val_loss: 0.4576 - val_accuracy: 0.8438\n",
            "Epoch 70/1000\n",
            "26/30 [=========================>....] - ETA: 0s - loss: 0.6921 - accuracy: 0.7212\n",
            "Epoch 70: saving model to .\\keypoint_classifier.hdf5\n",
            "30/30 [==============================] - 0s 5ms/step - loss: 0.6823 - accuracy: 0.7250 - val_loss: 0.4372 - val_accuracy: 0.8313\n",
            "Epoch 71/1000\n",
            "26/30 [=========================>....] - ETA: 0s - loss: 0.7093 - accuracy: 0.7236\n",
            "Epoch 71: saving model to .\\keypoint_classifier.hdf5\n",
            "30/30 [==============================] - 0s 6ms/step - loss: 0.7377 - accuracy: 0.7167 - val_loss: 0.4485 - val_accuracy: 0.8875\n",
            "Epoch 72/1000\n",
            "18/30 [=================>............] - ETA: 0s - loss: 0.6746 - accuracy: 0.7708\n",
            "Epoch 72: saving model to .\\keypoint_classifier.hdf5\n",
            "30/30 [==============================] - 0s 6ms/step - loss: 0.6565 - accuracy: 0.7625 - val_loss: 0.4409 - val_accuracy: 0.8875\n",
            "Epoch 73/1000\n",
            "25/30 [========================>.....] - ETA: 0s - loss: 0.6213 - accuracy: 0.7650\n",
            "Epoch 73: saving model to .\\keypoint_classifier.hdf5\n",
            "30/30 [==============================] - 0s 5ms/step - loss: 0.6606 - accuracy: 0.7396 - val_loss: 0.4358 - val_accuracy: 0.8813\n",
            "Epoch 74/1000\n",
            "24/30 [=======================>......] - ETA: 0s - loss: 0.7633 - accuracy: 0.7005\n",
            "Epoch 74: saving model to .\\keypoint_classifier.hdf5\n",
            "30/30 [==============================] - 0s 5ms/step - loss: 0.7362 - accuracy: 0.7125 - val_loss: 0.4354 - val_accuracy: 0.8813\n",
            "Epoch 75/1000\n",
            "26/30 [=========================>....] - ETA: 0s - loss: 0.7244 - accuracy: 0.7452\n",
            "Epoch 75: saving model to .\\keypoint_classifier.hdf5\n",
            "30/30 [==============================] - 0s 7ms/step - loss: 0.7160 - accuracy: 0.7437 - val_loss: 0.4425 - val_accuracy: 0.8875\n",
            "Epoch 76/1000\n",
            "25/30 [========================>.....] - ETA: 0s - loss: 0.7351 - accuracy: 0.7100\n",
            "Epoch 76: saving model to .\\keypoint_classifier.hdf5\n",
            "30/30 [==============================] - 0s 5ms/step - loss: 0.7300 - accuracy: 0.7104 - val_loss: 0.4465 - val_accuracy: 0.8875\n",
            "Epoch 77/1000\n",
            "22/30 [=====================>........] - ETA: 0s - loss: 0.7423 - accuracy: 0.6790\n",
            "Epoch 77: saving model to .\\keypoint_classifier.hdf5\n",
            "30/30 [==============================] - 0s 5ms/step - loss: 0.7090 - accuracy: 0.6917 - val_loss: 0.4185 - val_accuracy: 0.9000\n",
            "Epoch 78/1000\n",
            "22/30 [=====================>........] - ETA: 0s - loss: 0.7989 - accuracy: 0.6960\n",
            "Epoch 78: saving model to .\\keypoint_classifier.hdf5\n",
            "30/30 [==============================] - 0s 5ms/step - loss: 0.7788 - accuracy: 0.7063 - val_loss: 0.4087 - val_accuracy: 0.9062\n",
            "Epoch 79/1000\n",
            "23/30 [======================>.......] - ETA: 0s - loss: 0.6820 - accuracy: 0.7337\n",
            "Epoch 79: saving model to .\\keypoint_classifier.hdf5\n",
            "30/30 [==============================] - 0s 5ms/step - loss: 0.6957 - accuracy: 0.7167 - val_loss: 0.3986 - val_accuracy: 0.9000\n",
            "Epoch 80/1000\n",
            "23/30 [======================>.......] - ETA: 0s - loss: 0.7224 - accuracy: 0.7500\n",
            "Epoch 80: saving model to .\\keypoint_classifier.hdf5\n",
            "30/30 [==============================] - 3s 117ms/step - loss: 0.7380 - accuracy: 0.7396 - val_loss: 0.3939 - val_accuracy: 0.9000\n",
            "Epoch 81/1000\n",
            "23/30 [======================>.......] - ETA: 0s - loss: 0.7015 - accuracy: 0.7527\n",
            "Epoch 81: saving model to .\\keypoint_classifier.hdf5\n",
            "30/30 [==============================] - 0s 5ms/step - loss: 0.7020 - accuracy: 0.7500 - val_loss: 0.4106 - val_accuracy: 0.8875\n",
            "Epoch 82/1000\n",
            "23/30 [======================>.......] - ETA: 0s - loss: 0.6708 - accuracy: 0.7364\n",
            "Epoch 82: saving model to .\\keypoint_classifier.hdf5\n",
            "30/30 [==============================] - 0s 5ms/step - loss: 0.6795 - accuracy: 0.7312 - val_loss: 0.3984 - val_accuracy: 0.9062\n",
            "Epoch 83/1000\n",
            "22/30 [=====================>........] - ETA: 0s - loss: 0.6955 - accuracy: 0.7443\n",
            "Epoch 83: saving model to .\\keypoint_classifier.hdf5\n",
            "30/30 [==============================] - 0s 6ms/step - loss: 0.6883 - accuracy: 0.7437 - val_loss: 0.4104 - val_accuracy: 0.9062\n",
            "Epoch 84/1000\n",
            "20/30 [===================>..........] - ETA: 0s - loss: 0.7060 - accuracy: 0.7250\n",
            "Epoch 84: saving model to .\\keypoint_classifier.hdf5\n",
            "30/30 [==============================] - 0s 6ms/step - loss: 0.7227 - accuracy: 0.7229 - val_loss: 0.4190 - val_accuracy: 0.9187\n",
            "Epoch 85/1000\n",
            "25/30 [========================>.....] - ETA: 0s - loss: 0.6641 - accuracy: 0.7525\n",
            "Epoch 85: saving model to .\\keypoint_classifier.hdf5\n",
            "30/30 [==============================] - 0s 5ms/step - loss: 0.6498 - accuracy: 0.7479 - val_loss: 0.3997 - val_accuracy: 0.9250\n",
            "Epoch 86/1000\n",
            "21/30 [====================>.........] - ETA: 0s - loss: 0.5969 - accuracy: 0.7917\n",
            "Epoch 86: saving model to .\\keypoint_classifier.hdf5\n",
            "30/30 [==============================] - 0s 5ms/step - loss: 0.5902 - accuracy: 0.8000 - val_loss: 0.3983 - val_accuracy: 0.9187\n",
            "Epoch 87/1000\n",
            "20/30 [===================>..........] - ETA: 0s - loss: 0.6906 - accuracy: 0.7250\n",
            "Epoch 87: saving model to .\\keypoint_classifier.hdf5\n",
            "30/30 [==============================] - 0s 6ms/step - loss: 0.7137 - accuracy: 0.7312 - val_loss: 0.3907 - val_accuracy: 0.9187\n",
            "Epoch 88/1000\n",
            "19/30 [==================>...........] - ETA: 0s - loss: 0.6155 - accuracy: 0.7599\n",
            "Epoch 88: saving model to .\\keypoint_classifier.hdf5\n",
            "30/30 [==============================] - 0s 6ms/step - loss: 0.6338 - accuracy: 0.7521 - val_loss: 0.3893 - val_accuracy: 0.9250\n",
            "Epoch 89/1000\n",
            "27/30 [==========================>...] - ETA: 0s - loss: 0.7038 - accuracy: 0.7338\n",
            "Epoch 89: saving model to .\\keypoint_classifier.hdf5\n",
            "30/30 [==============================] - 0s 5ms/step - loss: 0.7008 - accuracy: 0.7375 - val_loss: 0.4141 - val_accuracy: 0.9000\n",
            "Epoch 90/1000\n",
            "21/30 [====================>.........] - ETA: 0s - loss: 0.7016 - accuracy: 0.7113\n",
            "Epoch 90: saving model to .\\keypoint_classifier.hdf5\n",
            "30/30 [==============================] - 0s 5ms/step - loss: 0.6766 - accuracy: 0.7271 - val_loss: 0.4020 - val_accuracy: 0.9125\n",
            "Epoch 91/1000\n",
            "21/30 [====================>.........] - ETA: 0s - loss: 0.5824 - accuracy: 0.7560\n",
            "Epoch 91: saving model to .\\keypoint_classifier.hdf5\n",
            "30/30 [==============================] - 0s 8ms/step - loss: 0.5816 - accuracy: 0.7688 - val_loss: 0.4004 - val_accuracy: 0.9187\n",
            "Epoch 92/1000\n",
            "24/30 [=======================>......] - ETA: 0s - loss: 0.5892 - accuracy: 0.7578\n",
            "Epoch 92: saving model to .\\keypoint_classifier.hdf5\n",
            "30/30 [==============================] - 0s 5ms/step - loss: 0.5779 - accuracy: 0.7625 - val_loss: 0.4055 - val_accuracy: 0.9000\n",
            "Epoch 93/1000\n",
            "19/30 [==================>...........] - ETA: 0s - loss: 0.6089 - accuracy: 0.7829\n",
            "Epoch 93: saving model to .\\keypoint_classifier.hdf5\n",
            "30/30 [==============================] - 0s 7ms/step - loss: 0.5851 - accuracy: 0.7833 - val_loss: 0.3828 - val_accuracy: 0.9062\n",
            "Epoch 94/1000\n",
            "19/30 [==================>...........] - ETA: 0s - loss: 0.6516 - accuracy: 0.7500\n",
            "Epoch 94: saving model to .\\keypoint_classifier.hdf5\n",
            "30/30 [==============================] - 4s 127ms/step - loss: 0.6438 - accuracy: 0.7437 - val_loss: 0.3751 - val_accuracy: 0.9062\n",
            "Epoch 95/1000\n",
            "25/30 [========================>.....] - ETA: 0s - loss: 0.6171 - accuracy: 0.7725\n",
            "Epoch 95: saving model to .\\keypoint_classifier.hdf5\n",
            "30/30 [==============================] - 4s 133ms/step - loss: 0.6222 - accuracy: 0.7667 - val_loss: 0.3777 - val_accuracy: 0.8938\n",
            "Epoch 96/1000\n",
            "22/30 [=====================>........] - ETA: 0s - loss: 0.6659 - accuracy: 0.7614\n",
            "Epoch 96: saving model to .\\keypoint_classifier.hdf5\n",
            "30/30 [==============================] - 0s 5ms/step - loss: 0.6760 - accuracy: 0.7521 - val_loss: 0.3762 - val_accuracy: 0.9000\n",
            "Epoch 97/1000\n",
            "25/30 [========================>.....] - ETA: 0s - loss: 0.6142 - accuracy: 0.7675\n",
            "Epoch 97: saving model to .\\keypoint_classifier.hdf5\n",
            "30/30 [==============================] - 0s 5ms/step - loss: 0.6295 - accuracy: 0.7563 - val_loss: 0.3829 - val_accuracy: 0.9375\n",
            "Epoch 98/1000\n",
            "20/30 [===================>..........] - ETA: 0s - loss: 0.6779 - accuracy: 0.7594\n",
            "Epoch 98: saving model to .\\keypoint_classifier.hdf5\n",
            "30/30 [==============================] - 0s 5ms/step - loss: 0.6673 - accuracy: 0.7604 - val_loss: 0.3771 - val_accuracy: 0.9187\n",
            "Epoch 99/1000\n",
            "25/30 [========================>.....] - ETA: 0s - loss: 0.6412 - accuracy: 0.7850\n",
            "Epoch 99: saving model to .\\keypoint_classifier.hdf5\n",
            "30/30 [==============================] - 0s 5ms/step - loss: 0.6285 - accuracy: 0.7854 - val_loss: 0.3836 - val_accuracy: 0.9187\n",
            "Epoch 100/1000\n",
            "27/30 [==========================>...] - ETA: 0s - loss: 0.7128 - accuracy: 0.7546\n",
            "Epoch 100: saving model to .\\keypoint_classifier.hdf5\n",
            "30/30 [==============================] - 0s 5ms/step - loss: 0.7179 - accuracy: 0.7479 - val_loss: 0.3936 - val_accuracy: 0.9438\n",
            "Epoch 101/1000\n",
            "25/30 [========================>.....] - ETA: 0s - loss: 0.6502 - accuracy: 0.7475\n",
            "Epoch 101: saving model to .\\keypoint_classifier.hdf5\n",
            "30/30 [==============================] - 0s 6ms/step - loss: 0.6573 - accuracy: 0.7458 - val_loss: 0.3771 - val_accuracy: 0.9500\n",
            "Epoch 102/1000\n",
            "20/30 [===================>..........] - ETA: 0s - loss: 0.6224 - accuracy: 0.7625\n",
            "Epoch 102: saving model to .\\keypoint_classifier.hdf5\n",
            "30/30 [==============================] - 0s 6ms/step - loss: 0.6097 - accuracy: 0.7771 - val_loss: 0.3771 - val_accuracy: 0.9438\n",
            "Epoch 103/1000\n",
            "27/30 [==========================>...] - ETA: 0s - loss: 0.5922 - accuracy: 0.7708\n",
            "Epoch 103: saving model to .\\keypoint_classifier.hdf5\n",
            "30/30 [==============================] - 0s 5ms/step - loss: 0.5935 - accuracy: 0.7646 - val_loss: 0.3630 - val_accuracy: 0.9375\n",
            "Epoch 104/1000\n",
            "26/30 [=========================>....] - ETA: 0s - loss: 0.6337 - accuracy: 0.7572\n",
            "Epoch 104: saving model to .\\keypoint_classifier.hdf5\n",
            "30/30 [==============================] - 0s 5ms/step - loss: 0.6491 - accuracy: 0.7458 - val_loss: 0.3620 - val_accuracy: 0.9438\n",
            "Epoch 105/1000\n",
            "23/30 [======================>.......] - ETA: 0s - loss: 0.6103 - accuracy: 0.7853\n",
            "Epoch 105: saving model to .\\keypoint_classifier.hdf5\n",
            "30/30 [==============================] - 0s 6ms/step - loss: 0.6255 - accuracy: 0.7812 - val_loss: 0.3659 - val_accuracy: 0.9125\n",
            "Epoch 106/1000\n",
            "24/30 [=======================>......] - ETA: 0s - loss: 0.5401 - accuracy: 0.7865\n",
            "Epoch 106: saving model to .\\keypoint_classifier.hdf5\n",
            "30/30 [==============================] - 0s 5ms/step - loss: 0.5485 - accuracy: 0.7771 - val_loss: 0.3635 - val_accuracy: 0.9312\n",
            "Epoch 107/1000\n",
            "26/30 [=========================>....] - ETA: 0s - loss: 0.6740 - accuracy: 0.7380\n",
            "Epoch 107: saving model to .\\keypoint_classifier.hdf5\n",
            "30/30 [==============================] - 0s 5ms/step - loss: 0.6401 - accuracy: 0.7563 - val_loss: 0.3585 - val_accuracy: 0.9375\n",
            "Epoch 108/1000\n",
            "25/30 [========================>.....] - ETA: 0s - loss: 0.6348 - accuracy: 0.7625\n",
            "Epoch 108: saving model to .\\keypoint_classifier.hdf5\n",
            "30/30 [==============================] - 0s 5ms/step - loss: 0.6381 - accuracy: 0.7563 - val_loss: 0.3646 - val_accuracy: 0.9000\n",
            "Epoch 109/1000\n",
            "21/30 [====================>.........] - ETA: 0s - loss: 0.6258 - accuracy: 0.7589\n",
            "Epoch 109: saving model to .\\keypoint_classifier.hdf5\n",
            "30/30 [==============================] - 0s 5ms/step - loss: 0.6293 - accuracy: 0.7646 - val_loss: 0.3746 - val_accuracy: 0.9187\n",
            "Epoch 110/1000\n",
            "22/30 [=====================>........] - ETA: 0s - loss: 0.6296 - accuracy: 0.7415\n",
            "Epoch 110: saving model to .\\keypoint_classifier.hdf5\n",
            "30/30 [==============================] - 0s 5ms/step - loss: 0.5896 - accuracy: 0.7563 - val_loss: 0.3793 - val_accuracy: 0.9250\n",
            "Epoch 111/1000\n",
            "23/30 [======================>.......] - ETA: 0s - loss: 0.6377 - accuracy: 0.7473\n",
            "Epoch 111: saving model to .\\keypoint_classifier.hdf5\n",
            "30/30 [==============================] - 0s 5ms/step - loss: 0.6243 - accuracy: 0.7563 - val_loss: 0.3562 - val_accuracy: 0.9250\n",
            "Epoch 112/1000\n",
            "21/30 [====================>.........] - ETA: 0s - loss: 0.6037 - accuracy: 0.7768\n",
            "Epoch 112: saving model to .\\keypoint_classifier.hdf5\n",
            "30/30 [==============================] - 0s 5ms/step - loss: 0.5959 - accuracy: 0.7708 - val_loss: 0.3637 - val_accuracy: 0.9250\n",
            "Epoch 113/1000\n",
            "25/30 [========================>.....] - ETA: 0s - loss: 0.5728 - accuracy: 0.7900\n",
            "Epoch 113: saving model to .\\keypoint_classifier.hdf5\n",
            "30/30 [==============================] - 0s 5ms/step - loss: 0.5845 - accuracy: 0.7875 - val_loss: 0.3689 - val_accuracy: 0.9000\n",
            "Epoch 114/1000\n",
            "27/30 [==========================>...] - ETA: 0s - loss: 0.6042 - accuracy: 0.7986\n",
            "Epoch 114: saving model to .\\keypoint_classifier.hdf5\n",
            "30/30 [==============================] - 0s 5ms/step - loss: 0.6039 - accuracy: 0.7979 - val_loss: 0.3691 - val_accuracy: 0.9125\n",
            "Epoch 115/1000\n",
            "23/30 [======================>.......] - ETA: 0s - loss: 0.6024 - accuracy: 0.7772\n",
            "Epoch 115: saving model to .\\keypoint_classifier.hdf5\n",
            "30/30 [==============================] - 0s 6ms/step - loss: 0.5816 - accuracy: 0.7812 - val_loss: 0.3721 - val_accuracy: 0.9187\n",
            "Epoch 116/1000\n",
            "26/30 [=========================>....] - ETA: 0s - loss: 0.6348 - accuracy: 0.7668\n",
            "Epoch 116: saving model to .\\keypoint_classifier.hdf5\n",
            "30/30 [==============================] - 0s 5ms/step - loss: 0.6279 - accuracy: 0.7667 - val_loss: 0.3556 - val_accuracy: 0.9312\n",
            "Epoch 117/1000\n",
            "24/30 [=======================>......] - ETA: 0s - loss: 0.5743 - accuracy: 0.7995\n",
            "Epoch 117: saving model to .\\keypoint_classifier.hdf5\n",
            "30/30 [==============================] - 0s 5ms/step - loss: 0.5970 - accuracy: 0.7833 - val_loss: 0.3444 - val_accuracy: 0.9187\n",
            "Epoch 118/1000\n",
            "27/30 [==========================>...] - ETA: 0s - loss: 0.5848 - accuracy: 0.7894\n",
            "Epoch 118: saving model to .\\keypoint_classifier.hdf5\n",
            "30/30 [==============================] - 0s 5ms/step - loss: 0.5968 - accuracy: 0.7833 - val_loss: 0.3442 - val_accuracy: 0.9062\n",
            "Epoch 119/1000\n",
            "26/30 [=========================>....] - ETA: 0s - loss: 0.5436 - accuracy: 0.8029\n",
            "Epoch 119: saving model to .\\keypoint_classifier.hdf5\n",
            "30/30 [==============================] - 0s 5ms/step - loss: 0.5331 - accuracy: 0.8125 - val_loss: 0.3593 - val_accuracy: 0.9187\n",
            "Epoch 120/1000\n",
            "25/30 [========================>.....] - ETA: 0s - loss: 0.5354 - accuracy: 0.8050\n",
            "Epoch 120: saving model to .\\keypoint_classifier.hdf5\n",
            "30/30 [==============================] - 3s 117ms/step - loss: 0.5722 - accuracy: 0.7958 - val_loss: 0.3574 - val_accuracy: 0.9312\n",
            "Epoch 121/1000\n",
            "26/30 [=========================>....] - ETA: 0s - loss: 0.6113 - accuracy: 0.7572\n",
            "Epoch 121: saving model to .\\keypoint_classifier.hdf5\n",
            "30/30 [==============================] - 0s 12ms/step - loss: 0.5924 - accuracy: 0.7625 - val_loss: 0.3539 - val_accuracy: 0.9187\n",
            "Epoch 122/1000\n",
            "22/30 [=====================>........] - ETA: 0s - loss: 0.6280 - accuracy: 0.7614\n",
            "Epoch 122: saving model to .\\keypoint_classifier.hdf5\n",
            "30/30 [==============================] - 0s 6ms/step - loss: 0.6234 - accuracy: 0.7688 - val_loss: 0.3500 - val_accuracy: 0.9187\n",
            "Epoch 123/1000\n",
            "22/30 [=====================>........] - ETA: 0s - loss: 0.6556 - accuracy: 0.7330\n",
            "Epoch 123: saving model to .\\keypoint_classifier.hdf5\n",
            "30/30 [==============================] - 0s 6ms/step - loss: 0.6304 - accuracy: 0.7604 - val_loss: 0.3317 - val_accuracy: 0.9062\n",
            "Epoch 124/1000\n",
            "21/30 [====================>.........] - ETA: 0s - loss: 0.6278 - accuracy: 0.7679\n",
            "Epoch 124: saving model to .\\keypoint_classifier.hdf5\n",
            "30/30 [==============================] - 0s 6ms/step - loss: 0.6172 - accuracy: 0.7667 - val_loss: 0.3344 - val_accuracy: 0.9250\n",
            "Epoch 125/1000\n",
            "22/30 [=====================>........] - ETA: 0s - loss: 0.6059 - accuracy: 0.7699\n",
            "Epoch 125: saving model to .\\keypoint_classifier.hdf5\n",
            "30/30 [==============================] - 0s 6ms/step - loss: 0.6256 - accuracy: 0.7812 - val_loss: 0.3528 - val_accuracy: 0.9125\n",
            "Epoch 126/1000\n",
            "17/30 [================>.............] - ETA: 0s - loss: 0.6119 - accuracy: 0.7831\n",
            "Epoch 126: saving model to .\\keypoint_classifier.hdf5\n",
            "30/30 [==============================] - 0s 6ms/step - loss: 0.5727 - accuracy: 0.7750 - val_loss: 0.3664 - val_accuracy: 0.9062\n",
            "Epoch 127/1000\n",
            "21/30 [====================>.........] - ETA: 0s - loss: 0.6104 - accuracy: 0.7679\n",
            "Epoch 127: saving model to .\\keypoint_classifier.hdf5\n",
            "30/30 [==============================] - 0s 6ms/step - loss: 0.5739 - accuracy: 0.7812 - val_loss: 0.3494 - val_accuracy: 0.9125\n",
            "Epoch 128/1000\n",
            "25/30 [========================>.....] - ETA: 0s - loss: 0.5960 - accuracy: 0.7775\n",
            "Epoch 128: saving model to .\\keypoint_classifier.hdf5\n",
            "30/30 [==============================] - 0s 5ms/step - loss: 0.5834 - accuracy: 0.7896 - val_loss: 0.3288 - val_accuracy: 0.9312\n",
            "Epoch 129/1000\n",
            "24/30 [=======================>......] - ETA: 0s - loss: 0.5703 - accuracy: 0.7786\n",
            "Epoch 129: saving model to .\\keypoint_classifier.hdf5\n",
            "30/30 [==============================] - 0s 5ms/step - loss: 0.5678 - accuracy: 0.7812 - val_loss: 0.3344 - val_accuracy: 0.9375\n",
            "Epoch 130/1000\n",
            "23/30 [======================>.......] - ETA: 0s - loss: 0.6049 - accuracy: 0.7772\n",
            "Epoch 130: saving model to .\\keypoint_classifier.hdf5\n",
            "30/30 [==============================] - 0s 5ms/step - loss: 0.5954 - accuracy: 0.7812 - val_loss: 0.3233 - val_accuracy: 0.9187\n",
            "Epoch 131/1000\n",
            "23/30 [======================>.......] - ETA: 0s - loss: 0.5243 - accuracy: 0.7880\n",
            "Epoch 131: saving model to .\\keypoint_classifier.hdf5\n",
            "30/30 [==============================] - 0s 6ms/step - loss: 0.5461 - accuracy: 0.7833 - val_loss: 0.3153 - val_accuracy: 0.9250\n",
            "Epoch 132/1000\n",
            "28/30 [===========================>..] - ETA: 0s - loss: 0.5718 - accuracy: 0.7902\n",
            "Epoch 132: saving model to .\\keypoint_classifier.hdf5\n",
            "30/30 [==============================] - 0s 5ms/step - loss: 0.5750 - accuracy: 0.7917 - val_loss: 0.3319 - val_accuracy: 0.9312\n",
            "Epoch 133/1000\n",
            "22/30 [=====================>........] - ETA: 0s - loss: 0.5959 - accuracy: 0.7784\n",
            "Epoch 133: saving model to .\\keypoint_classifier.hdf5\n",
            "30/30 [==============================] - 0s 6ms/step - loss: 0.6142 - accuracy: 0.7854 - val_loss: 0.3432 - val_accuracy: 0.9250\n",
            "Epoch 134/1000\n",
            "23/30 [======================>.......] - ETA: 0s - loss: 0.5175 - accuracy: 0.8179\n",
            "Epoch 134: saving model to .\\keypoint_classifier.hdf5\n",
            "30/30 [==============================] - 0s 6ms/step - loss: 0.5226 - accuracy: 0.8083 - val_loss: 0.3397 - val_accuracy: 0.9375\n",
            "Epoch 135/1000\n",
            "23/30 [======================>.......] - ETA: 0s - loss: 0.4982 - accuracy: 0.7989\n",
            "Epoch 135: saving model to .\\keypoint_classifier.hdf5\n",
            "30/30 [==============================] - 5s 164ms/step - loss: 0.5226 - accuracy: 0.8000 - val_loss: 0.3307 - val_accuracy: 0.9438\n",
            "Epoch 136/1000\n",
            " 1/30 [>.............................] - ETA: 0s - loss: 0.4036 - accuracy: 0.8125\n",
            "Epoch 136: saving model to .\\keypoint_classifier.hdf5\n",
            "30/30 [==============================] - 0s 4ms/step - loss: 0.5256 - accuracy: 0.7854 - val_loss: 0.3304 - val_accuracy: 0.9250\n",
            "Epoch 137/1000\n",
            "26/30 [=========================>....] - ETA: 0s - loss: 0.5571 - accuracy: 0.8005\n",
            "Epoch 137: saving model to .\\keypoint_classifier.hdf5\n",
            "30/30 [==============================] - 0s 5ms/step - loss: 0.5621 - accuracy: 0.8000 - val_loss: 0.3299 - val_accuracy: 0.9375\n",
            "Epoch 138/1000\n",
            "24/30 [=======================>......] - ETA: 0s - loss: 0.6425 - accuracy: 0.7682\n",
            "Epoch 138: saving model to .\\keypoint_classifier.hdf5\n",
            "30/30 [==============================] - 0s 6ms/step - loss: 0.5844 - accuracy: 0.7917 - val_loss: 0.3198 - val_accuracy: 0.9375\n",
            "Epoch 139/1000\n",
            "26/30 [=========================>....] - ETA: 0s - loss: 0.5968 - accuracy: 0.7644\n",
            "Epoch 139: saving model to .\\keypoint_classifier.hdf5\n",
            "30/30 [==============================] - 0s 5ms/step - loss: 0.6180 - accuracy: 0.7583 - val_loss: 0.3410 - val_accuracy: 0.9250\n",
            "Epoch 140/1000\n",
            "24/30 [=======================>......] - ETA: 0s - loss: 0.5889 - accuracy: 0.7786\n",
            "Epoch 140: saving model to .\\keypoint_classifier.hdf5\n",
            "30/30 [==============================] - 0s 5ms/step - loss: 0.5638 - accuracy: 0.7917 - val_loss: 0.3396 - val_accuracy: 0.9250\n",
            "Epoch 141/1000\n",
            "28/30 [===========================>..] - ETA: 0s - loss: 0.6461 - accuracy: 0.7545\n",
            "Epoch 141: saving model to .\\keypoint_classifier.hdf5\n",
            "30/30 [==============================] - 0s 5ms/step - loss: 0.6291 - accuracy: 0.7646 - val_loss: 0.3274 - val_accuracy: 0.9312\n",
            "Epoch 142/1000\n",
            "26/30 [=========================>....] - ETA: 0s - loss: 0.5328 - accuracy: 0.8101\n",
            "Epoch 142: saving model to .\\keypoint_classifier.hdf5\n",
            "30/30 [==============================] - 0s 6ms/step - loss: 0.5291 - accuracy: 0.8167 - val_loss: 0.3070 - val_accuracy: 0.9250\n",
            "Epoch 143/1000\n",
            "23/30 [======================>.......] - ETA: 0s - loss: 0.5349 - accuracy: 0.8125\n",
            "Epoch 143: saving model to .\\keypoint_classifier.hdf5\n",
            "30/30 [==============================] - 0s 6ms/step - loss: 0.5620 - accuracy: 0.7937 - val_loss: 0.2949 - val_accuracy: 0.9500\n",
            "Epoch 144/1000\n",
            "22/30 [=====================>........] - ETA: 0s - loss: 0.4888 - accuracy: 0.8267\n",
            "Epoch 144: saving model to .\\keypoint_classifier.hdf5\n",
            "30/30 [==============================] - 0s 5ms/step - loss: 0.4897 - accuracy: 0.8208 - val_loss: 0.3079 - val_accuracy: 0.9438\n",
            "Epoch 145/1000\n",
            "26/30 [=========================>....] - ETA: 0s - loss: 0.4900 - accuracy: 0.8269\n",
            "Epoch 145: saving model to .\\keypoint_classifier.hdf5\n",
            "30/30 [==============================] - 0s 5ms/step - loss: 0.5013 - accuracy: 0.8208 - val_loss: 0.3058 - val_accuracy: 0.9375\n",
            "Epoch 146/1000\n",
            "25/30 [========================>.....] - ETA: 0s - loss: 0.6319 - accuracy: 0.7750\n",
            "Epoch 146: saving model to .\\keypoint_classifier.hdf5\n",
            "30/30 [==============================] - 0s 5ms/step - loss: 0.6303 - accuracy: 0.7750 - val_loss: 0.3070 - val_accuracy: 0.9312\n",
            "Epoch 147/1000\n",
            "26/30 [=========================>....] - ETA: 0s - loss: 0.5362 - accuracy: 0.8173\n",
            "Epoch 147: saving model to .\\keypoint_classifier.hdf5\n",
            "30/30 [==============================] - 0s 5ms/step - loss: 0.5346 - accuracy: 0.8125 - val_loss: 0.3345 - val_accuracy: 0.9312\n",
            "Epoch 148/1000\n",
            "26/30 [=========================>....] - ETA: 0s - loss: 0.5413 - accuracy: 0.8077\n",
            "Epoch 148: saving model to .\\keypoint_classifier.hdf5\n",
            "30/30 [==============================] - 0s 5ms/step - loss: 0.5436 - accuracy: 0.8125 - val_loss: 0.3434 - val_accuracy: 0.9312\n",
            "Epoch 149/1000\n",
            "24/30 [=======================>......] - ETA: 0s - loss: 0.4984 - accuracy: 0.7865\n",
            "Epoch 149: saving model to .\\keypoint_classifier.hdf5\n",
            "30/30 [==============================] - 0s 6ms/step - loss: 0.4941 - accuracy: 0.8000 - val_loss: 0.3489 - val_accuracy: 0.9438\n",
            "Epoch 150/1000\n",
            "28/30 [===========================>..] - ETA: 0s - loss: 0.4932 - accuracy: 0.8348\n",
            "Epoch 150: saving model to .\\keypoint_classifier.hdf5\n",
            "30/30 [==============================] - 0s 5ms/step - loss: 0.5007 - accuracy: 0.8250 - val_loss: 0.3189 - val_accuracy: 0.9375\n",
            "Epoch 151/1000\n",
            "14/30 [=============>................] - ETA: 0s - loss: 0.5684 - accuracy: 0.7991\n",
            "Epoch 151: saving model to .\\keypoint_classifier.hdf5\n",
            "30/30 [==============================] - 0s 6ms/step - loss: 0.5384 - accuracy: 0.8125 - val_loss: 0.3175 - val_accuracy: 0.9563\n",
            "Epoch 152/1000\n",
            "26/30 [=========================>....] - ETA: 0s - loss: 0.4491 - accuracy: 0.8365\n",
            "Epoch 152: saving model to .\\keypoint_classifier.hdf5\n",
            "30/30 [==============================] - 0s 5ms/step - loss: 0.4369 - accuracy: 0.8396 - val_loss: 0.3223 - val_accuracy: 0.9375\n",
            "Epoch 153/1000\n",
            "27/30 [==========================>...] - ETA: 0s - loss: 0.5730 - accuracy: 0.8125\n",
            "Epoch 153: saving model to .\\keypoint_classifier.hdf5\n",
            "30/30 [==============================] - 0s 5ms/step - loss: 0.5644 - accuracy: 0.8125 - val_loss: 0.3058 - val_accuracy: 0.9500\n",
            "Epoch 154/1000\n",
            "25/30 [========================>.....] - ETA: 0s - loss: 0.5711 - accuracy: 0.7950\n",
            "Epoch 154: saving model to .\\keypoint_classifier.hdf5\n",
            "30/30 [==============================] - 0s 5ms/step - loss: 0.5567 - accuracy: 0.8021 - val_loss: 0.3177 - val_accuracy: 0.9438\n",
            "Epoch 155/1000\n",
            "21/30 [====================>.........] - ETA: 0s - loss: 0.5406 - accuracy: 0.8304\n",
            "Epoch 155: saving model to .\\keypoint_classifier.hdf5\n",
            "30/30 [==============================] - 0s 6ms/step - loss: 0.5389 - accuracy: 0.8188 - val_loss: 0.3358 - val_accuracy: 0.9187\n",
            "Epoch 156/1000\n",
            "24/30 [=======================>......] - ETA: 0s - loss: 0.5188 - accuracy: 0.8203\n",
            "Epoch 156: saving model to .\\keypoint_classifier.hdf5\n",
            "30/30 [==============================] - 0s 6ms/step - loss: 0.4913 - accuracy: 0.8313 - val_loss: 0.3274 - val_accuracy: 0.9250\n",
            "Epoch 157/1000\n",
            "26/30 [=========================>....] - ETA: 0s - loss: 0.5180 - accuracy: 0.8005\n",
            "Epoch 157: saving model to .\\keypoint_classifier.hdf5\n",
            "30/30 [==============================] - 0s 5ms/step - loss: 0.4956 - accuracy: 0.8167 - val_loss: 0.3293 - val_accuracy: 0.9375\n",
            "Epoch 158/1000\n",
            "27/30 [==========================>...] - ETA: 0s - loss: 0.4066 - accuracy: 0.8356\n",
            "Epoch 158: saving model to .\\keypoint_classifier.hdf5\n",
            "30/30 [==============================] - 0s 5ms/step - loss: 0.4038 - accuracy: 0.8375 - val_loss: 0.3281 - val_accuracy: 0.9187\n",
            "Epoch 159/1000\n",
            "24/30 [=======================>......] - ETA: 0s - loss: 0.5323 - accuracy: 0.8177\n",
            "Epoch 159: saving model to .\\keypoint_classifier.hdf5\n",
            "30/30 [==============================] - 0s 5ms/step - loss: 0.5248 - accuracy: 0.8229 - val_loss: 0.3272 - val_accuracy: 0.9375\n",
            "Epoch 160/1000\n",
            "27/30 [==========================>...] - ETA: 0s - loss: 0.4880 - accuracy: 0.8148\n",
            "Epoch 160: saving model to .\\keypoint_classifier.hdf5\n",
            "30/30 [==============================] - 0s 5ms/step - loss: 0.4956 - accuracy: 0.8104 - val_loss: 0.3078 - val_accuracy: 0.9438\n",
            "Epoch 161/1000\n",
            "25/30 [========================>.....] - ETA: 0s - loss: 0.5301 - accuracy: 0.8200\n",
            "Epoch 161: saving model to .\\keypoint_classifier.hdf5\n",
            "30/30 [==============================] - 0s 5ms/step - loss: 0.5480 - accuracy: 0.8104 - val_loss: 0.3063 - val_accuracy: 0.9500\n",
            "Epoch 162/1000\n",
            "28/30 [===========================>..] - ETA: 0s - loss: 0.5270 - accuracy: 0.8125\n",
            "Epoch 162: saving model to .\\keypoint_classifier.hdf5\n",
            "30/30 [==============================] - 0s 5ms/step - loss: 0.5261 - accuracy: 0.8146 - val_loss: 0.3023 - val_accuracy: 0.9500\n",
            "Epoch 163/1000\n",
            "27/30 [==========================>...] - ETA: 0s - loss: 0.4881 - accuracy: 0.8218\n",
            "Epoch 163: saving model to .\\keypoint_classifier.hdf5\n",
            "30/30 [==============================] - 0s 5ms/step - loss: 0.5108 - accuracy: 0.8146 - val_loss: 0.3197 - val_accuracy: 0.9375\n",
            "Epoch 163: early stopping\n"
          ]
        },
        {
          "data": {
            "text/plain": [
              "<keras.callbacks.History at 0x1b7eebbbeb0>"
            ]
          },
          "execution_count": 83,
          "metadata": {},
          "output_type": "execute_result"
        }
      ],
      "source": [
        "model.fit(\n",
        "    X_train,\n",
        "    y_train,\n",
        "    epochs=1000,\n",
        "    batch_size=16,\n",
        "    validation_data=(X_test, y_test),\n",
        "    callbacks=[cp_callback, es_callback]\n",
        ")"
      ]
    },
    {
      "cell_type": "code",
      "execution_count": 84,
      "metadata": {
        "colab": {
          "base_uri": "https://localhost:8080/"
        },
        "id": "pxvb2Y299hE3",
        "outputId": "59eb3185-2e37-4b9e-bc9d-ab1b8ac29b7f"
      },
      "outputs": [
        {
          "name": "stdout",
          "output_type": "stream",
          "text": [
            "2/2 [==============================] - 1s 4ms/step - loss: 0.3197 - accuracy: 0.9375\n"
          ]
        }
      ],
      "source": [
        "# Model evaluation\n",
        "val_loss, val_acc = model.evaluate(X_test, y_test, batch_size=128)"
      ]
    },
    {
      "cell_type": "code",
      "execution_count": 85,
      "metadata": {
        "id": "RBkmDeUW9hE4"
      },
      "outputs": [],
      "source": [
        "# Loading the saved model\n",
        "model = tf.keras.models.load_model(model_save_path)"
      ]
    },
    {
      "cell_type": "code",
      "execution_count": 86,
      "metadata": {
        "colab": {
          "base_uri": "https://localhost:8080/"
        },
        "id": "tFz9Tb0I9hE4",
        "outputId": "1c3b3528-54ae-4ee2-ab04-77429211cbef"
      },
      "outputs": [
        {
          "name": "stdout",
          "output_type": "stream",
          "text": [
            "1/1 [==============================] - 0s 85ms/step\n",
            "[7.9808749e-02 1.0991220e-05 9.7143720e-06 8.8518085e-05 5.5134431e-03\n",
            " 9.4102448e-05 2.2288989e-02 8.9218557e-01]\n",
            "7\n"
          ]
        }
      ],
      "source": [
        "# Inference test\n",
        "predict_result = model.predict(np.array([X_test[0]]))\n",
        "print(np.squeeze(predict_result))\n",
        "print(np.argmax(np.squeeze(predict_result)))"
      ]
    },
    {
      "cell_type": "markdown",
      "metadata": {
        "id": "S3U4yNWx9hE4"
      },
      "source": [
        "# Confusion matrix"
      ]
    },
    {
      "cell_type": "code",
      "execution_count": 87,
      "metadata": {
        "colab": {
          "base_uri": "https://localhost:8080/",
          "height": 582
        },
        "id": "AP1V6SCk9hE5",
        "outputId": "08e41a80-7a4a-4619-8125-ecc371368d19"
      },
      "outputs": [
        {
          "name": "stdout",
          "output_type": "stream",
          "text": [
            "5/5 [==============================] - 0s 2ms/step\n"
          ]
        },
        {
          "data": {
            "image/png": "[encoded data removed]",
            "text/plain": [
              "<Figure size 700x600 with 2 Axes>"
            ]
          },
          "metadata": {},
          "output_type": "display_data"
        },
        {
          "name": "stdout",
          "output_type": "stream",
          "text": [
            "Classification Report\n",
            "              precision    recall  f1-score   support\n",
            "\n",
            "           0       1.00      0.92      0.96        26\n",
            "           1       1.00      1.00      1.00        20\n",
            "           2       0.79      0.95      0.86        20\n",
            "           3       0.82      0.90      0.86        20\n",
            "           4       1.00      1.00      1.00        16\n",
            "           5       0.94      0.89      0.91        18\n",
            "           6       1.00      1.00      1.00        17\n",
            "           7       1.00      0.87      0.93        23\n",
            "\n",
            "    accuracy                           0.94       160\n",
            "   macro avg       0.94      0.94      0.94       160\n",
            "weighted avg       0.94      0.94      0.94       160\n",
            "\n"
          ]
        }
      ],
      "source": [
        "import pandas as pd\n",
        "import seaborn as sns\n",
        "import matplotlib.pyplot as plt\n",
        "from sklearn.metrics import confusion_matrix, classification_report\n",
        "\n",
        "def print_confusion_matrix(y_true, y_pred, report=True):\n",
        "    labels = sorted(list(set(y_true)))\n",
        "    cmx_data = confusion_matrix(y_true, y_pred, labels=labels)\n",
        "    \n",
        "    df_cmx = pd.DataFrame(cmx_data, index=labels, columns=labels)\n",
        " \n",
        "    fig, ax = plt.subplots(figsize=(7, 6))\n",
        "    sns.heatmap(df_cmx, annot=True, fmt='g' ,square=False)\n",
        "    ax.set_ylim(len(set(y_true)), 0)\n",
        "    plt.show()\n",
        "    \n",
        "    if report:\n",
        "        print('Classification Report')\n",
        "        print(classification_report(y_test, y_pred))\n",
        "\n",
        "Y_pred = model.predict(X_test)\n",
        "y_pred = np.argmax(Y_pred, axis=1)\n",
        "\n",
        "print_confusion_matrix(y_test, y_pred)"
      ]
    },
    {
      "cell_type": "markdown",
      "metadata": {
        "id": "FNP6aqzc9hE5"
      },
      "source": [
        "# Convert to model for Tensorflow-Lite"
      ]
    },
    {
      "cell_type": "code",
      "execution_count": 88,
      "metadata": {
        "id": "ODjnYyld9hE6"
      },
      "outputs": [],
      "source": [
        "# Save as a model dedicated to inference\n",
        "model.save(model_save_path, include_optimizer=False)"
      ]
    },
    {
      "cell_type": "code",
      "execution_count": 89,
      "metadata": {
        "colab": {
          "base_uri": "https://localhost:8080/"
        },
        "id": "zRfuK8Y59hE6",
        "outputId": "a4ca585c-b5d5-4244-8291-8674063209bb"
      },
      "outputs": [
        {
          "name": "stdout",
          "output_type": "stream",
          "text": [
            "INFO:tensorflow:Assets written to: C:\\Users\\moham\\AppData\\Local\\Temp\\tmp2idk64ss\\assets\n"
          ]
        },
        {
          "name": "stderr",
          "output_type": "stream",
          "text": [
            "INFO:tensorflow:Assets written to: C:\\Users\\moham\\AppData\\Local\\Temp\\tmp2idk64ss\\assets\n"
          ]
        },
        {
          "data": {
            "text/plain": [
              "11728"
            ]
          },
          "execution_count": 89,
          "metadata": {},
          "output_type": "execute_result"
        }
      ],
      "source": [
        "# Transform model (quantization)\n",
        "\n",
        "converter = tf.lite.TFLiteConverter.from_keras_model(model)\n",
        "converter.optimizations = [tf.lite.Optimize.DEFAULT]\n",
        "tflite_quantized_model = converter.convert()\n",
        "\n",
        "open(tflite_save_path, 'wb').write(tflite_quantized_model)"
      ]
    },
    {
      "cell_type": "markdown",
      "metadata": {
        "id": "CHBPBXdx9hE6"
      },
      "source": [
        "# Inference test"
      ]
    },
    {
      "cell_type": "code",
      "execution_count": 90,
      "metadata": {
        "id": "mGAzLocO9hE7"
      },
      "outputs": [],
      "source": [
        "interpreter = tf.lite.Interpreter(model_path=tflite_save_path)\n",
        "interpreter.allocate_tensors()"
      ]
    },
    {
      "cell_type": "code",
      "execution_count": 91,
      "metadata": {
        "id": "oQuDK8YS9hE7"
      },
      "outputs": [],
      "source": [
        "# Get I / O tensor\n",
        "input_details = interpreter.get_input_details()\n",
        "output_details = interpreter.get_output_details()"
      ]
    },
    {
      "cell_type": "code",
      "execution_count": 92,
      "metadata": {
        "id": "2_ixAf_l9hE7"
      },
      "outputs": [],
      "source": [
        "interpreter.set_tensor(input_details[0]['index'], np.array([X_test[0]]))"
      ]
    },
    {
      "cell_type": "code",
      "execution_count": 93,
      "metadata": {
        "colab": {
          "base_uri": "https://localhost:8080/"
        },
        "id": "s4FoAnuc9hE7",
        "outputId": "91f18257-8d8b-4ef3-c558-e9b5f94fabbf",
        "scrolled": true
      },
      "outputs": [
        {
          "name": "stdout",
          "output_type": "stream",
          "text": [
            "Wall time: 999 µs\n"
          ]
        }
      ],
      "source": [
        "%%time\n",
        "# Inference implementation\n",
        "interpreter.invoke()\n",
        "tflite_results = interpreter.get_tensor(output_details[0]['index'])"
      ]
    },
    {
      "cell_type": "code",
      "execution_count": 94,
      "metadata": {
        "colab": {
          "base_uri": "https://localhost:8080/"
        },
        "id": "vONjp19J9hE8",
        "outputId": "77205e24-fd00-42c4-f7b6-e06e527c2cba"
      },
      "outputs": [
        {
          "name": "stdout",
          "output_type": "stream",
          "text": [
            "[8.2761519e-02 1.1402755e-05 1.0121455e-05 9.6473304e-05 5.6721224e-03\n",
            " 9.5173928e-05 2.2989953e-02 8.8836324e-01]\n",
            "7\n"
          ]
        }
      ],
      "source": [
        "print(np.squeeze(tflite_results))\n",
        "print(np.argmax(np.squeeze(tflite_results)))"
      ]
    }
  ],
  "metadata": {
    "accelerator": "GPU",
    "colab": {
      "collapsed_sections": [],
      "name": "keypoint_classification_EN.ipynb",
      "provenance": [],
      "toc_visible": true
    },
    "kernelspec": {
      "display_name": "Python 3",
      "language": "python",
      "name": "python3"
    },
    "language_info": {
      "codemirror_mode": {
        "name": "ipython",
        "version": 3
      },
      "file_extension": ".py",
      "mimetype": "text/x-python",
      "name": "python",
      "nbconvert_exporter": "python",
      "pygments_lexer": "ipython3",
      "version": "3.9.18"
    }
  },
  "nbformat": 4,
  "nbformat_minor": 0
}
